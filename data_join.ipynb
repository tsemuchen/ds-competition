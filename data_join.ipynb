{
 "cells": [
  {
   "cell_type": "code",
   "execution_count": 64,
   "id": "93ec7544",
   "metadata": {},
   "outputs": [],
   "source": [
    "import pandas as pd\n",
    "import pandasql as ps"
   ]
  },
  {
   "cell_type": "code",
   "execution_count": 70,
   "id": "8f161e85",
   "metadata": {},
   "outputs": [],
   "source": [
    "def name_format(name):\n",
    "    temp = name.strip().split(\" \")\n",
    "    new = \" \".join(t for t in temp if t)\n",
    "    return new\n",
    "\n",
    "bio = pd.read_csv(\"all_players_clean.csv\")\n",
    "ws = pd.read_csv(\"./ws/all_winshare.csv\")\n",
    "\n",
    "bio[\"Name\"] = bio[\"Name\"].apply(name_format)\n",
    "ws[\"Player\"] = ws[\"Player\"].apply(name_format)"
   ]
  },
  {
   "cell_type": "code",
   "execution_count": 71,
   "id": "c7e22ef2",
   "metadata": {},
   "outputs": [],
   "source": [
    "bio_ws = pd.merge(bio, ws, how='left', left_on=['Name', 'Year'], right_on=['Player', 'Year'])\n",
    "bio_ws.drop(columns='Player', inplace=True)\n",
    "bio_ws.to_csv(\"bio_ws.csv\", index=False)"
   ]
  },
  {
   "cell_type": "code",
   "execution_count": 69,
   "id": "3ea0cb08",
   "metadata": {},
   "outputs": [
    {
     "data": {
      "text/html": [
       "<div>\n",
       "<style scoped>\n",
       "    .dataframe tbody tr th:only-of-type {\n",
       "        vertical-align: middle;\n",
       "    }\n",
       "\n",
       "    .dataframe tbody tr th {\n",
       "        vertical-align: top;\n",
       "    }\n",
       "\n",
       "    .dataframe thead th {\n",
       "        text-align: right;\n",
       "    }\n",
       "</style>\n",
       "<table border=\"1\" class=\"dataframe\">\n",
       "  <thead>\n",
       "    <tr style=\"text-align: right;\">\n",
       "      <th></th>\n",
       "      <th>Team</th>\n",
       "      <th>Year</th>\n",
       "      <th>Conference Win</th>\n",
       "      <th>Conference Lose</th>\n",
       "      <th>Overall Win</th>\n",
       "      <th>Overall Lose</th>\n",
       "      <th>conf_win_rate</th>\n",
       "    </tr>\n",
       "  </thead>\n",
       "  <tbody>\n",
       "    <tr>\n",
       "      <th>0</th>\n",
       "      <td>Illinois</td>\n",
       "      <td>2021</td>\n",
       "      <td>15</td>\n",
       "      <td>5</td>\n",
       "      <td>23</td>\n",
       "      <td>10</td>\n",
       "      <td>0.75</td>\n",
       "    </tr>\n",
       "    <tr>\n",
       "      <th>1</th>\n",
       "      <td>Illinois</td>\n",
       "      <td>2022</td>\n",
       "      <td>11</td>\n",
       "      <td>9</td>\n",
       "      <td>20</td>\n",
       "      <td>13</td>\n",
       "      <td>0.55</td>\n",
       "    </tr>\n",
       "    <tr>\n",
       "      <th>2</th>\n",
       "      <td>Illinois</td>\n",
       "      <td>2023</td>\n",
       "      <td>14</td>\n",
       "      <td>6</td>\n",
       "      <td>29</td>\n",
       "      <td>9</td>\n",
       "      <td>0.70</td>\n",
       "    </tr>\n",
       "  </tbody>\n",
       "</table>\n",
       "</div>"
      ],
      "text/plain": [
       "       Team  Year  Conference Win  Conference Lose  Overall Win  Overall Lose  \\\n",
       "0  Illinois  2021              15                5           23            10   \n",
       "1  Illinois  2022              11                9           20            13   \n",
       "2  Illinois  2023              14                6           29             9   \n",
       "\n",
       "   conf_win_rate  \n",
       "0           0.75  \n",
       "1           0.55  \n",
       "2           0.70  "
      ]
     },
     "execution_count": 69,
     "metadata": {},
     "output_type": "execute_result"
    }
   ],
   "source": [
    "record = pd.read_csv(\"record.csv\")\n",
    "# record['Year'] = record['Year'].str.slice(0, 4)\n",
    "# record[\"conf_win_rate\"] = record[\"Conference Win\"] / (record[\"Conference Win\"] + record[\"Conference Lose\"])\n",
    "# record.to_csv(\"record.csv\", index=False)\\\n",
    "record['Team'] = record['Team'].str.replace(\" \", \"_\")\n",
    "record[:3]"
   ]
  },
  {
   "cell_type": "code",
   "execution_count": 51,
   "id": "2f3b8a1d",
   "metadata": {},
   "outputs": [
    {
     "data": {
      "text/html": [
       "<div>\n",
       "<style scoped>\n",
       "    .dataframe tbody tr th:only-of-type {\n",
       "        vertical-align: middle;\n",
       "    }\n",
       "\n",
       "    .dataframe tbody tr th {\n",
       "        vertical-align: top;\n",
       "    }\n",
       "\n",
       "    .dataframe thead th {\n",
       "        text-align: right;\n",
       "    }\n",
       "</style>\n",
       "<table border=\"1\" class=\"dataframe\">\n",
       "  <thead>\n",
       "    <tr style=\"text-align: right;\">\n",
       "      <th></th>\n",
       "      <th>School</th>\n",
       "      <th>Year</th>\n",
       "      <th>transfer_amount</th>\n",
       "      <th>mean_height</th>\n",
       "      <th>mean_weight</th>\n",
       "      <th>mean_age</th>\n",
       "    </tr>\n",
       "  </thead>\n",
       "  <tbody>\n",
       "    <tr>\n",
       "      <th>0</th>\n",
       "      <td>Illinois</td>\n",
       "      <td>2020</td>\n",
       "      <td>0</td>\n",
       "      <td>78.176471</td>\n",
       "      <td>207.941176</td>\n",
       "      <td>20.000000</td>\n",
       "    </tr>\n",
       "    <tr>\n",
       "      <th>1</th>\n",
       "      <td>Illinois</td>\n",
       "      <td>2021</td>\n",
       "      <td>2</td>\n",
       "      <td>78.750000</td>\n",
       "      <td>215.625000</td>\n",
       "      <td>20.250000</td>\n",
       "    </tr>\n",
       "    <tr>\n",
       "      <th>2</th>\n",
       "      <td>Illinois</td>\n",
       "      <td>2022</td>\n",
       "      <td>2</td>\n",
       "      <td>78.357143</td>\n",
       "      <td>204.642857</td>\n",
       "      <td>19.571429</td>\n",
       "    </tr>\n",
       "  </tbody>\n",
       "</table>\n",
       "</div>"
      ],
      "text/plain": [
       "     School  Year  transfer_amount  mean_height  mean_weight   mean_age\n",
       "0  Illinois  2020                0    78.176471   207.941176  20.000000\n",
       "1  Illinois  2021                2    78.750000   215.625000  20.250000\n",
       "2  Illinois  2022                2    78.357143   204.642857  19.571429"
      ]
     },
     "execution_count": 51,
     "metadata": {},
     "output_type": "execute_result"
    }
   ],
   "source": [
    "bio_team = ps.sqldf(\"\"\"\n",
    "    SELECT School, Year, COUNT(CASE WHEN Is_Transfer = True THEN 1 END) AS transfer_amount, \n",
    "        AVG(Height) as mean_height, AVG(Weight) as mean_weight, AVG(Age) as mean_age\n",
    "    FROM bio_ws\n",
    "    GROUP BY School, Year\n",
    "\"\"\")\n",
    "bio_team[:3]"
   ]
  },
  {
   "cell_type": "code",
   "execution_count": 63,
   "id": "3c76abcb",
   "metadata": {},
   "outputs": [],
   "source": [
    "bio_record = pd.merge(bio_team, record, how='right', left_on=['School', 'Year'], right_on=['Team', 'Year'])\n",
    "bio_record.drop(columns='Team', inplace=True)\n",
    "bio_record = bio_record.loc[:, ~bio_record.columns.str.contains('^Unnamed')]\n",
    "bio_record.to_csv(\"bio_record.csv\", index=False, encoding='utf-8')"
   ]
  },
  {
   "cell_type": "code",
   "execution_count": null,
   "id": "95e106df",
   "metadata": {},
   "outputs": [],
   "source": []
  }
 ],
 "metadata": {
  "kernelspec": {
   "display_name": "Python 3 (ipykernel)",
   "language": "python",
   "name": "python3"
  },
  "language_info": {
   "codemirror_mode": {
    "name": "ipython",
    "version": 3
   },
   "file_extension": ".py",
   "mimetype": "text/x-python",
   "name": "python",
   "nbconvert_exporter": "python",
   "pygments_lexer": "ipython3",
   "version": "3.11.5"
  }
 },
 "nbformat": 4,
 "nbformat_minor": 5
}
